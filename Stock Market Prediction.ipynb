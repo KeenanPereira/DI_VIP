{
 "cells": [
  {
   "cell_type": "code",
   "execution_count": 4,
   "metadata": {
    "id": "5JKw6Hok0D8T"
   },
   "outputs": [],
   "source": [
    "# Importing libraries\n",
    "\n",
    "import numpy as np\n",
    "import pandas as pd\n",
    "import matplotlib.pyplot as plt\n",
    "%matplotlib inline\n"
   ]
  },
  {
   "cell_type": "code",
   "execution_count": 5,
   "metadata": {
    "id": "symQiBUk5uRh"
   },
   "outputs": [],
   "source": [
    "df = pd.read_csv('infolimpioavanzadoTarget.csv')"
   ]
  },
  {
   "cell_type": "code",
   "execution_count": 6,
   "metadata": {
    "colab": {
     "base_uri": "https://localhost:8080/",
     "height": 355
    },
    "id": "hUCvftvD0M--",
    "outputId": "a67d8d3f-c416-41be-954e-6566d4c32f4e"
   },
   "outputs": [
    {
     "data": {
      "text/html": [
       "<div>\n",
       "<style scoped>\n",
       "    .dataframe tbody tr th:only-of-type {\n",
       "        vertical-align: middle;\n",
       "    }\n",
       "\n",
       "    .dataframe tbody tr th {\n",
       "        vertical-align: top;\n",
       "    }\n",
       "\n",
       "    .dataframe thead th {\n",
       "        text-align: right;\n",
       "    }\n",
       "</style>\n",
       "<table border=\"1\" class=\"dataframe\">\n",
       "  <thead>\n",
       "    <tr style=\"text-align: right;\">\n",
       "      <th></th>\n",
       "      <th>date</th>\n",
       "      <th>open</th>\n",
       "      <th>high</th>\n",
       "      <th>low</th>\n",
       "      <th>close</th>\n",
       "      <th>adjclose</th>\n",
       "      <th>volume</th>\n",
       "      <th>ticker</th>\n",
       "      <th>RSIadjclose15</th>\n",
       "      <th>RSIvolume15</th>\n",
       "      <th>...</th>\n",
       "      <th>high-15</th>\n",
       "      <th>K-15</th>\n",
       "      <th>D-15</th>\n",
       "      <th>stochastic-k-15</th>\n",
       "      <th>stochastic-d-15</th>\n",
       "      <th>stochastic-kd-15</th>\n",
       "      <th>volumenrelativo</th>\n",
       "      <th>diff</th>\n",
       "      <th>INCREMENTO</th>\n",
       "      <th>TARGET</th>\n",
       "    </tr>\n",
       "  </thead>\n",
       "  <tbody>\n",
       "    <tr>\n",
       "      <th>0</th>\n",
       "      <td>2022-01-03</td>\n",
       "      <td>17.799999</td>\n",
       "      <td>18.219000</td>\n",
       "      <td>17.500000</td>\n",
       "      <td>17.760000</td>\n",
       "      <td>17.760000</td>\n",
       "      <td>106600</td>\n",
       "      <td>ASLE</td>\n",
       "      <td>NaN</td>\n",
       "      <td>NaN</td>\n",
       "      <td>...</td>\n",
       "      <td>NaN</td>\n",
       "      <td>NaN</td>\n",
       "      <td>NaN</td>\n",
       "      <td>NaN</td>\n",
       "      <td>NaN</td>\n",
       "      <td>NaN</td>\n",
       "      <td>0.919758</td>\n",
       "      <td>-1.900001</td>\n",
       "      <td>-9.664295</td>\n",
       "      <td>0</td>\n",
       "    </tr>\n",
       "    <tr>\n",
       "      <th>1</th>\n",
       "      <td>2022-01-04</td>\n",
       "      <td>17.700001</td>\n",
       "      <td>18.309999</td>\n",
       "      <td>17.620001</td>\n",
       "      <td>17.660000</td>\n",
       "      <td>17.660000</td>\n",
       "      <td>128700</td>\n",
       "      <td>ASLE</td>\n",
       "      <td>NaN</td>\n",
       "      <td>NaN</td>\n",
       "      <td>...</td>\n",
       "      <td>NaN</td>\n",
       "      <td>NaN</td>\n",
       "      <td>NaN</td>\n",
       "      <td>NaN</td>\n",
       "      <td>NaN</td>\n",
       "      <td>NaN</td>\n",
       "      <td>1.110440</td>\n",
       "      <td>-1.379999</td>\n",
       "      <td>-7.247895</td>\n",
       "      <td>0</td>\n",
       "    </tr>\n",
       "    <tr>\n",
       "      <th>2</th>\n",
       "      <td>2022-01-05</td>\n",
       "      <td>17.580000</td>\n",
       "      <td>17.799999</td>\n",
       "      <td>16.910000</td>\n",
       "      <td>16.950001</td>\n",
       "      <td>16.950001</td>\n",
       "      <td>103100</td>\n",
       "      <td>ASLE</td>\n",
       "      <td>NaN</td>\n",
       "      <td>NaN</td>\n",
       "      <td>...</td>\n",
       "      <td>NaN</td>\n",
       "      <td>NaN</td>\n",
       "      <td>NaN</td>\n",
       "      <td>NaN</td>\n",
       "      <td>NaN</td>\n",
       "      <td>NaN</td>\n",
       "      <td>0.889560</td>\n",
       "      <td>-0.930000</td>\n",
       "      <td>-5.201344</td>\n",
       "      <td>0</td>\n",
       "    </tr>\n",
       "    <tr>\n",
       "      <th>3</th>\n",
       "      <td>2022-01-06</td>\n",
       "      <td>16.650000</td>\n",
       "      <td>16.879999</td>\n",
       "      <td>16.139999</td>\n",
       "      <td>16.170000</td>\n",
       "      <td>16.170000</td>\n",
       "      <td>173600</td>\n",
       "      <td>ASLE</td>\n",
       "      <td>NaN</td>\n",
       "      <td>NaN</td>\n",
       "      <td>...</td>\n",
       "      <td>NaN</td>\n",
       "      <td>NaN</td>\n",
       "      <td>NaN</td>\n",
       "      <td>NaN</td>\n",
       "      <td>NaN</td>\n",
       "      <td>NaN</td>\n",
       "      <td>1.497843</td>\n",
       "      <td>-0.360000</td>\n",
       "      <td>-2.177856</td>\n",
       "      <td>0</td>\n",
       "    </tr>\n",
       "    <tr>\n",
       "      <th>4</th>\n",
       "      <td>2022-01-07</td>\n",
       "      <td>16.219999</td>\n",
       "      <td>16.290001</td>\n",
       "      <td>15.630000</td>\n",
       "      <td>15.710000</td>\n",
       "      <td>15.710000</td>\n",
       "      <td>137800</td>\n",
       "      <td>ASLE</td>\n",
       "      <td>NaN</td>\n",
       "      <td>NaN</td>\n",
       "      <td>...</td>\n",
       "      <td>NaN</td>\n",
       "      <td>NaN</td>\n",
       "      <td>NaN</td>\n",
       "      <td>NaN</td>\n",
       "      <td>NaN</td>\n",
       "      <td>NaN</td>\n",
       "      <td>1.188956</td>\n",
       "      <td>-0.120000</td>\n",
       "      <td>-0.758054</td>\n",
       "      <td>0</td>\n",
       "    </tr>\n",
       "  </tbody>\n",
       "</table>\n",
       "<p>5 rows × 1285 columns</p>\n",
       "</div>"
      ],
      "text/plain": [
       "         date       open       high        low      close   adjclose  volume  \\\n",
       "0  2022-01-03  17.799999  18.219000  17.500000  17.760000  17.760000  106600   \n",
       "1  2022-01-04  17.700001  18.309999  17.620001  17.660000  17.660000  128700   \n",
       "2  2022-01-05  17.580000  17.799999  16.910000  16.950001  16.950001  103100   \n",
       "3  2022-01-06  16.650000  16.879999  16.139999  16.170000  16.170000  173600   \n",
       "4  2022-01-07  16.219999  16.290001  15.630000  15.710000  15.710000  137800   \n",
       "\n",
       "  ticker  RSIadjclose15  RSIvolume15  ...  high-15  K-15  D-15  \\\n",
       "0   ASLE            NaN          NaN  ...      NaN   NaN   NaN   \n",
       "1   ASLE            NaN          NaN  ...      NaN   NaN   NaN   \n",
       "2   ASLE            NaN          NaN  ...      NaN   NaN   NaN   \n",
       "3   ASLE            NaN          NaN  ...      NaN   NaN   NaN   \n",
       "4   ASLE            NaN          NaN  ...      NaN   NaN   NaN   \n",
       "\n",
       "   stochastic-k-15  stochastic-d-15  stochastic-kd-15  volumenrelativo  \\\n",
       "0              NaN              NaN               NaN         0.919758   \n",
       "1              NaN              NaN               NaN         1.110440   \n",
       "2              NaN              NaN               NaN         0.889560   \n",
       "3              NaN              NaN               NaN         1.497843   \n",
       "4              NaN              NaN               NaN         1.188956   \n",
       "\n",
       "       diff  INCREMENTO  TARGET  \n",
       "0 -1.900001   -9.664295       0  \n",
       "1 -1.379999   -7.247895       0  \n",
       "2 -0.930000   -5.201344       0  \n",
       "3 -0.360000   -2.177856       0  \n",
       "4 -0.120000   -0.758054       0  \n",
       "\n",
       "[5 rows x 1285 columns]"
      ]
     },
     "execution_count": 6,
     "metadata": {},
     "output_type": "execute_result"
    }
   ],
   "source": [
    "df.head(5)"
   ]
  },
  {
   "cell_type": "code",
   "execution_count": 7,
   "metadata": {
    "colab": {
     "base_uri": "https://localhost:8080/"
    },
    "id": "NCoVAlK20ZLm",
    "outputId": "f25f72cf-8173-41f8-91b0-6e603be4ee52"
   },
   "outputs": [
    {
     "data": {
      "text/plain": [
       "(7781, 1285)"
      ]
     },
     "execution_count": 7,
     "metadata": {},
     "output_type": "execute_result"
    }
   ],
   "source": [
    "df.shape"
   ]
  },
  {
   "cell_type": "code",
   "execution_count": 8,
   "metadata": {
    "colab": {
     "base_uri": "https://localhost:8080/",
     "height": 363
    },
    "id": "UFGnTEoU0hvh",
    "outputId": "d144c628-283e-4bf0-81f8-5265959c421b"
   },
   "outputs": [
    {
     "data": {
      "text/html": [
       "<div>\n",
       "<style scoped>\n",
       "    .dataframe tbody tr th:only-of-type {\n",
       "        vertical-align: middle;\n",
       "    }\n",
       "\n",
       "    .dataframe tbody tr th {\n",
       "        vertical-align: top;\n",
       "    }\n",
       "\n",
       "    .dataframe thead th {\n",
       "        text-align: right;\n",
       "    }\n",
       "</style>\n",
       "<table border=\"1\" class=\"dataframe\">\n",
       "  <thead>\n",
       "    <tr style=\"text-align: right;\">\n",
       "      <th></th>\n",
       "      <th>open</th>\n",
       "      <th>high</th>\n",
       "      <th>low</th>\n",
       "      <th>close</th>\n",
       "      <th>adjclose</th>\n",
       "      <th>volume</th>\n",
       "      <th>RSIadjclose15</th>\n",
       "      <th>RSIvolume15</th>\n",
       "      <th>RSIadjclose25</th>\n",
       "      <th>RSIvolume25</th>\n",
       "      <th>...</th>\n",
       "      <th>high-15</th>\n",
       "      <th>K-15</th>\n",
       "      <th>D-15</th>\n",
       "      <th>stochastic-k-15</th>\n",
       "      <th>stochastic-d-15</th>\n",
       "      <th>stochastic-kd-15</th>\n",
       "      <th>volumenrelativo</th>\n",
       "      <th>diff</th>\n",
       "      <th>INCREMENTO</th>\n",
       "      <th>TARGET</th>\n",
       "    </tr>\n",
       "  </thead>\n",
       "  <tbody>\n",
       "    <tr>\n",
       "      <th>count</th>\n",
       "      <td>7781.000000</td>\n",
       "      <td>7781.000000</td>\n",
       "      <td>7781.000000</td>\n",
       "      <td>7781.000000</td>\n",
       "      <td>7781.000000</td>\n",
       "      <td>7.781000e+03</td>\n",
       "      <td>7316.000000</td>\n",
       "      <td>7316.000000</td>\n",
       "      <td>7006.000000</td>\n",
       "      <td>7006.000000</td>\n",
       "      <td>...</td>\n",
       "      <td>7347.000000</td>\n",
       "      <td>7262.000000</td>\n",
       "      <td>7194.000000</td>\n",
       "      <td>7262.000000</td>\n",
       "      <td>7194.000000</td>\n",
       "      <td>7194.000000</td>\n",
       "      <td>7566.000000</td>\n",
       "      <td>7626.000000</td>\n",
       "      <td>7626.000000</td>\n",
       "      <td>7781.000000</td>\n",
       "    </tr>\n",
       "    <tr>\n",
       "      <th>mean</th>\n",
       "      <td>34.990220</td>\n",
       "      <td>35.655999</td>\n",
       "      <td>34.301243</td>\n",
       "      <td>34.964414</td>\n",
       "      <td>34.483147</td>\n",
       "      <td>7.586022e+05</td>\n",
       "      <td>46.817434</td>\n",
       "      <td>49.814790</td>\n",
       "      <td>46.966016</td>\n",
       "      <td>49.898659</td>\n",
       "      <td>...</td>\n",
       "      <td>37.947291</td>\n",
       "      <td>18.673824</td>\n",
       "      <td>18.704812</td>\n",
       "      <td>18.673824</td>\n",
       "      <td>18.704812</td>\n",
       "      <td>0.298413</td>\n",
       "      <td>inf</td>\n",
       "      <td>-0.259186</td>\n",
       "      <td>-2.674224</td>\n",
       "      <td>0.183010</td>\n",
       "    </tr>\n",
       "    <tr>\n",
       "      <th>std</th>\n",
       "      <td>99.841502</td>\n",
       "      <td>101.451058</td>\n",
       "      <td>98.073945</td>\n",
       "      <td>99.790823</td>\n",
       "      <td>98.603879</td>\n",
       "      <td>3.934491e+06</td>\n",
       "      <td>11.672838</td>\n",
       "      <td>5.002664</td>\n",
       "      <td>8.760961</td>\n",
       "      <td>3.420371</td>\n",
       "      <td>...</td>\n",
       "      <td>107.340294</td>\n",
       "      <td>75.723295</td>\n",
       "      <td>74.210933</td>\n",
       "      <td>75.723295</td>\n",
       "      <td>74.210933</td>\n",
       "      <td>14.661948</td>\n",
       "      <td>NaN</td>\n",
       "      <td>7.334250</td>\n",
       "      <td>268.268134</td>\n",
       "      <td>0.386699</td>\n",
       "    </tr>\n",
       "    <tr>\n",
       "      <th>min</th>\n",
       "      <td>0.410000</td>\n",
       "      <td>0.435000</td>\n",
       "      <td>0.405000</td>\n",
       "      <td>0.408000</td>\n",
       "      <td>0.408000</td>\n",
       "      <td>0.000000e+00</td>\n",
       "      <td>6.837461</td>\n",
       "      <td>35.303213</td>\n",
       "      <td>17.693637</td>\n",
       "      <td>39.520876</td>\n",
       "      <td>...</td>\n",
       "      <td>0.510000</td>\n",
       "      <td>-668.212635</td>\n",
       "      <td>-626.263336</td>\n",
       "      <td>-668.212635</td>\n",
       "      <td>-626.263336</td>\n",
       "      <td>-211.219037</td>\n",
       "      <td>0.000000</td>\n",
       "      <td>-90.538818</td>\n",
       "      <td>-23399.465955</td>\n",
       "      <td>0.000000</td>\n",
       "    </tr>\n",
       "    <tr>\n",
       "      <th>25%</th>\n",
       "      <td>4.050000</td>\n",
       "      <td>4.130000</td>\n",
       "      <td>3.980000</td>\n",
       "      <td>4.030000</td>\n",
       "      <td>3.960000</td>\n",
       "      <td>1.080000e+04</td>\n",
       "      <td>38.946316</td>\n",
       "      <td>47.182234</td>\n",
       "      <td>40.954487</td>\n",
       "      <td>48.266978</td>\n",
       "      <td>...</td>\n",
       "      <td>4.565000</td>\n",
       "      <td>6.153839</td>\n",
       "      <td>8.336837</td>\n",
       "      <td>6.153839</td>\n",
       "      <td>8.336837</td>\n",
       "      <td>-6.585432</td>\n",
       "      <td>0.637237</td>\n",
       "      <td>-0.417873</td>\n",
       "      <td>-4.494383</td>\n",
       "      <td>0.000000</td>\n",
       "    </tr>\n",
       "    <tr>\n",
       "      <th>50%</th>\n",
       "      <td>10.080000</td>\n",
       "      <td>10.110000</td>\n",
       "      <td>10.005000</td>\n",
       "      <td>10.080000</td>\n",
       "      <td>10.061000</td>\n",
       "      <td>8.406000e+04</td>\n",
       "      <td>46.259711</td>\n",
       "      <td>48.356834</td>\n",
       "      <td>46.459477</td>\n",
       "      <td>48.961162</td>\n",
       "      <td>...</td>\n",
       "      <td>10.640000</td>\n",
       "      <td>28.484828</td>\n",
       "      <td>28.478797</td>\n",
       "      <td>28.484828</td>\n",
       "      <td>28.478797</td>\n",
       "      <td>0.000000</td>\n",
       "      <td>1.000000</td>\n",
       "      <td>-0.025000</td>\n",
       "      <td>-0.304004</td>\n",
       "      <td>0.000000</td>\n",
       "    </tr>\n",
       "    <tr>\n",
       "      <th>75%</th>\n",
       "      <td>24.350000</td>\n",
       "      <td>24.500000</td>\n",
       "      <td>24.080000</td>\n",
       "      <td>24.250000</td>\n",
       "      <td>22.466007</td>\n",
       "      <td>6.724000e+05</td>\n",
       "      <td>54.061089</td>\n",
       "      <td>50.902284</td>\n",
       "      <td>52.289893</td>\n",
       "      <td>50.527067</td>\n",
       "      <td>...</td>\n",
       "      <td>25.170000</td>\n",
       "      <td>59.688404</td>\n",
       "      <td>58.664021</td>\n",
       "      <td>59.688404</td>\n",
       "      <td>58.664021</td>\n",
       "      <td>6.726947</td>\n",
       "      <td>1.655385</td>\n",
       "      <td>0.240000</td>\n",
       "      <td>2.812552</td>\n",
       "      <td>0.000000</td>\n",
       "    </tr>\n",
       "    <tr>\n",
       "      <th>max</th>\n",
       "      <td>795.739990</td>\n",
       "      <td>799.359985</td>\n",
       "      <td>784.960022</td>\n",
       "      <td>797.489990</td>\n",
       "      <td>783.376221</td>\n",
       "      <td>1.615550e+08</td>\n",
       "      <td>96.365095</td>\n",
       "      <td>99.622735</td>\n",
       "      <td>91.023108</td>\n",
       "      <td>97.782293</td>\n",
       "      <td>...</td>\n",
       "      <td>799.359985</td>\n",
       "      <td>100.000000</td>\n",
       "      <td>100.000000</td>\n",
       "      <td>100.000000</td>\n",
       "      <td>100.000000</td>\n",
       "      <td>198.156313</td>\n",
       "      <td>inf</td>\n",
       "      <td>120.256775</td>\n",
       "      <td>425.000000</td>\n",
       "      <td>1.000000</td>\n",
       "    </tr>\n",
       "  </tbody>\n",
       "</table>\n",
       "<p>8 rows × 1283 columns</p>\n",
       "</div>"
      ],
      "text/plain": [
       "              open         high          low        close     adjclose  \\\n",
       "count  7781.000000  7781.000000  7781.000000  7781.000000  7781.000000   \n",
       "mean     34.990220    35.655999    34.301243    34.964414    34.483147   \n",
       "std      99.841502   101.451058    98.073945    99.790823    98.603879   \n",
       "min       0.410000     0.435000     0.405000     0.408000     0.408000   \n",
       "25%       4.050000     4.130000     3.980000     4.030000     3.960000   \n",
       "50%      10.080000    10.110000    10.005000    10.080000    10.061000   \n",
       "75%      24.350000    24.500000    24.080000    24.250000    22.466007   \n",
       "max     795.739990   799.359985   784.960022   797.489990   783.376221   \n",
       "\n",
       "             volume  RSIadjclose15  RSIvolume15  RSIadjclose25  RSIvolume25  \\\n",
       "count  7.781000e+03    7316.000000  7316.000000    7006.000000  7006.000000   \n",
       "mean   7.586022e+05      46.817434    49.814790      46.966016    49.898659   \n",
       "std    3.934491e+06      11.672838     5.002664       8.760961     3.420371   \n",
       "min    0.000000e+00       6.837461    35.303213      17.693637    39.520876   \n",
       "25%    1.080000e+04      38.946316    47.182234      40.954487    48.266978   \n",
       "50%    8.406000e+04      46.259711    48.356834      46.459477    48.961162   \n",
       "75%    6.724000e+05      54.061089    50.902284      52.289893    50.527067   \n",
       "max    1.615550e+08      96.365095    99.622735      91.023108    97.782293   \n",
       "\n",
       "       ...      high-15         K-15         D-15  stochastic-k-15  \\\n",
       "count  ...  7347.000000  7262.000000  7194.000000      7262.000000   \n",
       "mean   ...    37.947291    18.673824    18.704812        18.673824   \n",
       "std    ...   107.340294    75.723295    74.210933        75.723295   \n",
       "min    ...     0.510000  -668.212635  -626.263336      -668.212635   \n",
       "25%    ...     4.565000     6.153839     8.336837         6.153839   \n",
       "50%    ...    10.640000    28.484828    28.478797        28.484828   \n",
       "75%    ...    25.170000    59.688404    58.664021        59.688404   \n",
       "max    ...   799.359985   100.000000   100.000000       100.000000   \n",
       "\n",
       "       stochastic-d-15  stochastic-kd-15  volumenrelativo         diff  \\\n",
       "count      7194.000000       7194.000000      7566.000000  7626.000000   \n",
       "mean         18.704812          0.298413              inf    -0.259186   \n",
       "std          74.210933         14.661948              NaN     7.334250   \n",
       "min        -626.263336       -211.219037         0.000000   -90.538818   \n",
       "25%           8.336837         -6.585432         0.637237    -0.417873   \n",
       "50%          28.478797          0.000000         1.000000    -0.025000   \n",
       "75%          58.664021          6.726947         1.655385     0.240000   \n",
       "max         100.000000        198.156313              inf   120.256775   \n",
       "\n",
       "         INCREMENTO       TARGET  \n",
       "count   7626.000000  7781.000000  \n",
       "mean      -2.674224     0.183010  \n",
       "std      268.268134     0.386699  \n",
       "min   -23399.465955     0.000000  \n",
       "25%       -4.494383     0.000000  \n",
       "50%       -0.304004     0.000000  \n",
       "75%        2.812552     0.000000  \n",
       "max      425.000000     1.000000  \n",
       "\n",
       "[8 rows x 1283 columns]"
      ]
     },
     "execution_count": 8,
     "metadata": {},
     "output_type": "execute_result"
    }
   ],
   "source": [
    "df.describe()"
   ]
  },
  {
   "cell_type": "code",
   "execution_count": 9,
   "metadata": {
    "colab": {
     "base_uri": "https://localhost:8080/"
    },
    "id": "Ns6qE__s0kAd",
    "outputId": "a429fbc6-dbad-4436-9189-6bf9bc8005a1"
   },
   "outputs": [
    {
     "data": {
      "text/plain": [
       "date                  0\n",
       "open                  0\n",
       "high                  0\n",
       "low                   0\n",
       "close                 0\n",
       "                   ... \n",
       "stochastic-kd-15    587\n",
       "volumenrelativo     215\n",
       "diff                155\n",
       "INCREMENTO          155\n",
       "TARGET                0\n",
       "Length: 1285, dtype: int64"
      ]
     },
     "execution_count": 9,
     "metadata": {},
     "output_type": "execute_result"
    }
   ],
   "source": [
    "df.isna().sum()"
   ]
  },
  {
   "cell_type": "code",
   "execution_count": 10,
   "metadata": {
    "colab": {
     "base_uri": "https://localhost:8080/"
    },
    "id": "P-3elNR-3avc",
    "outputId": "4a63942a-bce3-434f-d519-77d8029f6407"
   },
   "outputs": [
    {
     "data": {
      "text/plain": [
       "Index(['date', 'open', 'high', 'low', 'close', 'adjclose', 'volume', 'ticker',\n",
       "       'RSIadjclose15', 'RSIvolume15',\n",
       "       ...\n",
       "       'high-15', 'K-15', 'D-15', 'stochastic-k-15', 'stochastic-d-15',\n",
       "       'stochastic-kd-15', 'volumenrelativo', 'diff', 'INCREMENTO', 'TARGET'],\n",
       "      dtype='object', length=1285)"
      ]
     },
     "execution_count": 10,
     "metadata": {},
     "output_type": "execute_result"
    }
   ],
   "source": [
    "df.columns"
   ]
  },
  {
   "cell_type": "code",
   "execution_count": 11,
   "metadata": {
    "id": "dKKSuEtD0gue"
   },
   "outputs": [],
   "source": [
    "selected = [col for col in df.columns [df.isna().sum() == 0] ]\n"
   ]
  },
  {
   "cell_type": "code",
   "execution_count": 12,
   "metadata": {
    "id": "UwoSZEvF0NBm"
   },
   "outputs": [],
   "source": [
    "df1 = df[selected]"
   ]
  },
  {
   "cell_type": "code",
   "execution_count": 13,
   "metadata": {
    "colab": {
     "base_uri": "https://localhost:8080/",
     "height": 309
    },
    "id": "FMICD8OEpkSh",
    "outputId": "ac0ad95d-402e-4f37-caa5-d9b5960d4622"
   },
   "outputs": [
    {
     "data": {
      "text/html": [
       "<div>\n",
       "<style scoped>\n",
       "    .dataframe tbody tr th:only-of-type {\n",
       "        vertical-align: middle;\n",
       "    }\n",
       "\n",
       "    .dataframe tbody tr th {\n",
       "        vertical-align: top;\n",
       "    }\n",
       "\n",
       "    .dataframe thead th {\n",
       "        text-align: right;\n",
       "    }\n",
       "</style>\n",
       "<table border=\"1\" class=\"dataframe\">\n",
       "  <thead>\n",
       "    <tr style=\"text-align: right;\">\n",
       "      <th></th>\n",
       "      <th>date</th>\n",
       "      <th>open</th>\n",
       "      <th>high</th>\n",
       "      <th>low</th>\n",
       "      <th>close</th>\n",
       "      <th>adjclose</th>\n",
       "      <th>volume</th>\n",
       "      <th>ticker</th>\n",
       "      <th>feargreed</th>\n",
       "      <th>emaadjclose5</th>\n",
       "      <th>emaadjclose10</th>\n",
       "      <th>emaadjclose15</th>\n",
       "      <th>emaadjclose50</th>\n",
       "      <th>atr5</th>\n",
       "      <th>atr10</th>\n",
       "      <th>atr15</th>\n",
       "      <th>atr20</th>\n",
       "      <th>velaE</th>\n",
       "      <th>velaF</th>\n",
       "      <th>TARGET</th>\n",
       "    </tr>\n",
       "  </thead>\n",
       "  <tbody>\n",
       "    <tr>\n",
       "      <th>0</th>\n",
       "      <td>2022-01-03</td>\n",
       "      <td>17.799999</td>\n",
       "      <td>18.219000</td>\n",
       "      <td>17.500000</td>\n",
       "      <td>17.760000</td>\n",
       "      <td>17.760000</td>\n",
       "      <td>106600</td>\n",
       "      <td>ASLE</td>\n",
       "      <td>29</td>\n",
       "      <td>0.000000</td>\n",
       "      <td>0.000000</td>\n",
       "      <td>0.000000</td>\n",
       "      <td>0.000000</td>\n",
       "      <td>0.719000</td>\n",
       "      <td>0.719000</td>\n",
       "      <td>0.719000</td>\n",
       "      <td>0.719000</td>\n",
       "      <td>-0.039999</td>\n",
       "      <td>-0.039999</td>\n",
       "      <td>0</td>\n",
       "    </tr>\n",
       "    <tr>\n",
       "      <th>1</th>\n",
       "      <td>2022-01-04</td>\n",
       "      <td>17.700001</td>\n",
       "      <td>18.309999</td>\n",
       "      <td>17.620001</td>\n",
       "      <td>17.660000</td>\n",
       "      <td>17.660000</td>\n",
       "      <td>128700</td>\n",
       "      <td>ASLE</td>\n",
       "      <td>23</td>\n",
       "      <td>0.003775</td>\n",
       "      <td>0.004633</td>\n",
       "      <td>0.004955</td>\n",
       "      <td>0.005440</td>\n",
       "      <td>0.713200</td>\n",
       "      <td>0.716100</td>\n",
       "      <td>0.717066</td>\n",
       "      <td>0.717550</td>\n",
       "      <td>-0.040001</td>\n",
       "      <td>-0.040001</td>\n",
       "      <td>0</td>\n",
       "    </tr>\n",
       "    <tr>\n",
       "      <th>2</th>\n",
       "      <td>2022-01-05</td>\n",
       "      <td>17.580000</td>\n",
       "      <td>17.799999</td>\n",
       "      <td>16.910000</td>\n",
       "      <td>16.950001</td>\n",
       "      <td>16.950001</td>\n",
       "      <td>103100</td>\n",
       "      <td>ASLE</td>\n",
       "      <td>24</td>\n",
       "      <td>0.030547</td>\n",
       "      <td>0.038221</td>\n",
       "      <td>0.041169</td>\n",
       "      <td>0.045691</td>\n",
       "      <td>0.748560</td>\n",
       "      <td>0.733490</td>\n",
       "      <td>0.728595</td>\n",
       "      <td>0.726172</td>\n",
       "      <td>-0.629999</td>\n",
       "      <td>-0.629999</td>\n",
       "      <td>0</td>\n",
       "    </tr>\n",
       "    <tr>\n",
       "      <th>3</th>\n",
       "      <td>2022-01-06</td>\n",
       "      <td>16.650000</td>\n",
       "      <td>16.879999</td>\n",
       "      <td>16.139999</td>\n",
       "      <td>16.170000</td>\n",
       "      <td>16.170000</td>\n",
       "      <td>173600</td>\n",
       "      <td>ASLE</td>\n",
       "      <td>15</td>\n",
       "      <td>0.053506</td>\n",
       "      <td>0.072248</td>\n",
       "      <td>0.079968</td>\n",
       "      <td>0.092363</td>\n",
       "      <td>0.760848</td>\n",
       "      <td>0.741141</td>\n",
       "      <td>0.734022</td>\n",
       "      <td>0.730364</td>\n",
       "      <td>-0.480000</td>\n",
       "      <td>-0.480000</td>\n",
       "      <td>0</td>\n",
       "    </tr>\n",
       "    <tr>\n",
       "      <th>4</th>\n",
       "      <td>2022-01-07</td>\n",
       "      <td>16.219999</td>\n",
       "      <td>16.290001</td>\n",
       "      <td>15.630000</td>\n",
       "      <td>15.710000</td>\n",
       "      <td>15.710000</td>\n",
       "      <td>137800</td>\n",
       "      <td>ASLE</td>\n",
       "      <td>18</td>\n",
       "      <td>0.056235</td>\n",
       "      <td>0.084799</td>\n",
       "      <td>0.097642</td>\n",
       "      <td>0.119472</td>\n",
       "      <td>0.740679</td>\n",
       "      <td>0.733027</td>\n",
       "      <td>0.729088</td>\n",
       "      <td>0.726846</td>\n",
       "      <td>-0.509999</td>\n",
       "      <td>-0.509999</td>\n",
       "      <td>0</td>\n",
       "    </tr>\n",
       "  </tbody>\n",
       "</table>\n",
       "</div>"
      ],
      "text/plain": [
       "         date       open       high        low      close   adjclose  volume  \\\n",
       "0  2022-01-03  17.799999  18.219000  17.500000  17.760000  17.760000  106600   \n",
       "1  2022-01-04  17.700001  18.309999  17.620001  17.660000  17.660000  128700   \n",
       "2  2022-01-05  17.580000  17.799999  16.910000  16.950001  16.950001  103100   \n",
       "3  2022-01-06  16.650000  16.879999  16.139999  16.170000  16.170000  173600   \n",
       "4  2022-01-07  16.219999  16.290001  15.630000  15.710000  15.710000  137800   \n",
       "\n",
       "  ticker  feargreed  emaadjclose5  emaadjclose10  emaadjclose15  \\\n",
       "0   ASLE         29      0.000000       0.000000       0.000000   \n",
       "1   ASLE         23      0.003775       0.004633       0.004955   \n",
       "2   ASLE         24      0.030547       0.038221       0.041169   \n",
       "3   ASLE         15      0.053506       0.072248       0.079968   \n",
       "4   ASLE         18      0.056235       0.084799       0.097642   \n",
       "\n",
       "   emaadjclose50      atr5     atr10     atr15     atr20     velaE     velaF  \\\n",
       "0       0.000000  0.719000  0.719000  0.719000  0.719000 -0.039999 -0.039999   \n",
       "1       0.005440  0.713200  0.716100  0.717066  0.717550 -0.040001 -0.040001   \n",
       "2       0.045691  0.748560  0.733490  0.728595  0.726172 -0.629999 -0.629999   \n",
       "3       0.092363  0.760848  0.741141  0.734022  0.730364 -0.480000 -0.480000   \n",
       "4       0.119472  0.740679  0.733027  0.729088  0.726846 -0.509999 -0.509999   \n",
       "\n",
       "   TARGET  \n",
       "0       0  \n",
       "1       0  \n",
       "2       0  \n",
       "3       0  \n",
       "4       0  "
      ]
     },
     "execution_count": 13,
     "metadata": {},
     "output_type": "execute_result"
    }
   ],
   "source": [
    "df1.head(5)"
   ]
  },
  {
   "cell_type": "code",
   "execution_count": 14,
   "metadata": {
    "colab": {
     "base_uri": "https://localhost:8080/"
    },
    "id": "-c5Id0DS3d52",
    "outputId": "1cdd45ff-583b-4ecb-9c40-762c10b6e7a5"
   },
   "outputs": [
    {
     "data": {
      "text/plain": [
       "Index(['date', 'open', 'high', 'low', 'close', 'adjclose', 'volume', 'ticker',\n",
       "       'feargreed', 'emaadjclose5', 'emaadjclose10', 'emaadjclose15',\n",
       "       'emaadjclose50', 'atr5', 'atr10', 'atr15', 'atr20', 'velaE', 'velaF',\n",
       "       'TARGET'],\n",
       "      dtype='object')"
      ]
     },
     "execution_count": 14,
     "metadata": {},
     "output_type": "execute_result"
    }
   ],
   "source": [
    "df1.columns"
   ]
  },
  {
   "cell_type": "code",
   "execution_count": 15,
   "metadata": {
    "id": "YZyUmL1Oq1w5"
   },
   "outputs": [],
   "source": [
    "df1 = df1.drop(['date'], axis=1)"
   ]
  },
  {
   "cell_type": "code",
   "execution_count": 16,
   "metadata": {
    "id": "jWUtWzaSripz"
   },
   "outputs": [],
   "source": [
    "df1 = df1.drop(['ticker'], axis=1)"
   ]
  },
  {
   "cell_type": "code",
   "execution_count": 17,
   "metadata": {
    "colab": {
     "base_uri": "https://localhost:8080/",
     "height": 224
    },
    "id": "beOtZLdGrTVX",
    "outputId": "27096926-5e53-4a27-9390-2f54421d390c"
   },
   "outputs": [
    {
     "data": {
      "text/html": [
       "<div>\n",
       "<style scoped>\n",
       "    .dataframe tbody tr th:only-of-type {\n",
       "        vertical-align: middle;\n",
       "    }\n",
       "\n",
       "    .dataframe tbody tr th {\n",
       "        vertical-align: top;\n",
       "    }\n",
       "\n",
       "    .dataframe thead th {\n",
       "        text-align: right;\n",
       "    }\n",
       "</style>\n",
       "<table border=\"1\" class=\"dataframe\">\n",
       "  <thead>\n",
       "    <tr style=\"text-align: right;\">\n",
       "      <th></th>\n",
       "      <th>open</th>\n",
       "      <th>high</th>\n",
       "      <th>low</th>\n",
       "      <th>close</th>\n",
       "      <th>adjclose</th>\n",
       "      <th>volume</th>\n",
       "      <th>feargreed</th>\n",
       "      <th>emaadjclose5</th>\n",
       "      <th>emaadjclose10</th>\n",
       "      <th>emaadjclose15</th>\n",
       "      <th>emaadjclose50</th>\n",
       "      <th>atr5</th>\n",
       "      <th>atr10</th>\n",
       "      <th>atr15</th>\n",
       "      <th>atr20</th>\n",
       "      <th>velaE</th>\n",
       "      <th>velaF</th>\n",
       "      <th>TARGET</th>\n",
       "    </tr>\n",
       "  </thead>\n",
       "  <tbody>\n",
       "    <tr>\n",
       "      <th>0</th>\n",
       "      <td>17.799999</td>\n",
       "      <td>18.219000</td>\n",
       "      <td>17.500000</td>\n",
       "      <td>17.760000</td>\n",
       "      <td>17.760000</td>\n",
       "      <td>106600</td>\n",
       "      <td>29</td>\n",
       "      <td>0.000000</td>\n",
       "      <td>0.000000</td>\n",
       "      <td>0.000000</td>\n",
       "      <td>0.000000</td>\n",
       "      <td>0.719000</td>\n",
       "      <td>0.719000</td>\n",
       "      <td>0.719000</td>\n",
       "      <td>0.719000</td>\n",
       "      <td>-0.039999</td>\n",
       "      <td>-0.039999</td>\n",
       "      <td>0</td>\n",
       "    </tr>\n",
       "    <tr>\n",
       "      <th>1</th>\n",
       "      <td>17.700001</td>\n",
       "      <td>18.309999</td>\n",
       "      <td>17.620001</td>\n",
       "      <td>17.660000</td>\n",
       "      <td>17.660000</td>\n",
       "      <td>128700</td>\n",
       "      <td>23</td>\n",
       "      <td>0.003775</td>\n",
       "      <td>0.004633</td>\n",
       "      <td>0.004955</td>\n",
       "      <td>0.005440</td>\n",
       "      <td>0.713200</td>\n",
       "      <td>0.716100</td>\n",
       "      <td>0.717066</td>\n",
       "      <td>0.717550</td>\n",
       "      <td>-0.040001</td>\n",
       "      <td>-0.040001</td>\n",
       "      <td>0</td>\n",
       "    </tr>\n",
       "    <tr>\n",
       "      <th>2</th>\n",
       "      <td>17.580000</td>\n",
       "      <td>17.799999</td>\n",
       "      <td>16.910000</td>\n",
       "      <td>16.950001</td>\n",
       "      <td>16.950001</td>\n",
       "      <td>103100</td>\n",
       "      <td>24</td>\n",
       "      <td>0.030547</td>\n",
       "      <td>0.038221</td>\n",
       "      <td>0.041169</td>\n",
       "      <td>0.045691</td>\n",
       "      <td>0.748560</td>\n",
       "      <td>0.733490</td>\n",
       "      <td>0.728595</td>\n",
       "      <td>0.726172</td>\n",
       "      <td>-0.629999</td>\n",
       "      <td>-0.629999</td>\n",
       "      <td>0</td>\n",
       "    </tr>\n",
       "    <tr>\n",
       "      <th>3</th>\n",
       "      <td>16.650000</td>\n",
       "      <td>16.879999</td>\n",
       "      <td>16.139999</td>\n",
       "      <td>16.170000</td>\n",
       "      <td>16.170000</td>\n",
       "      <td>173600</td>\n",
       "      <td>15</td>\n",
       "      <td>0.053506</td>\n",
       "      <td>0.072248</td>\n",
       "      <td>0.079968</td>\n",
       "      <td>0.092363</td>\n",
       "      <td>0.760848</td>\n",
       "      <td>0.741141</td>\n",
       "      <td>0.734022</td>\n",
       "      <td>0.730364</td>\n",
       "      <td>-0.480000</td>\n",
       "      <td>-0.480000</td>\n",
       "      <td>0</td>\n",
       "    </tr>\n",
       "    <tr>\n",
       "      <th>4</th>\n",
       "      <td>16.219999</td>\n",
       "      <td>16.290001</td>\n",
       "      <td>15.630000</td>\n",
       "      <td>15.710000</td>\n",
       "      <td>15.710000</td>\n",
       "      <td>137800</td>\n",
       "      <td>18</td>\n",
       "      <td>0.056235</td>\n",
       "      <td>0.084799</td>\n",
       "      <td>0.097642</td>\n",
       "      <td>0.119472</td>\n",
       "      <td>0.740679</td>\n",
       "      <td>0.733027</td>\n",
       "      <td>0.729088</td>\n",
       "      <td>0.726846</td>\n",
       "      <td>-0.509999</td>\n",
       "      <td>-0.509999</td>\n",
       "      <td>0</td>\n",
       "    </tr>\n",
       "  </tbody>\n",
       "</table>\n",
       "</div>"
      ],
      "text/plain": [
       "        open       high        low      close   adjclose  volume  feargreed  \\\n",
       "0  17.799999  18.219000  17.500000  17.760000  17.760000  106600         29   \n",
       "1  17.700001  18.309999  17.620001  17.660000  17.660000  128700         23   \n",
       "2  17.580000  17.799999  16.910000  16.950001  16.950001  103100         24   \n",
       "3  16.650000  16.879999  16.139999  16.170000  16.170000  173600         15   \n",
       "4  16.219999  16.290001  15.630000  15.710000  15.710000  137800         18   \n",
       "\n",
       "   emaadjclose5  emaadjclose10  emaadjclose15  emaadjclose50      atr5  \\\n",
       "0      0.000000       0.000000       0.000000       0.000000  0.719000   \n",
       "1      0.003775       0.004633       0.004955       0.005440  0.713200   \n",
       "2      0.030547       0.038221       0.041169       0.045691  0.748560   \n",
       "3      0.053506       0.072248       0.079968       0.092363  0.760848   \n",
       "4      0.056235       0.084799       0.097642       0.119472  0.740679   \n",
       "\n",
       "      atr10     atr15     atr20     velaE     velaF  TARGET  \n",
       "0  0.719000  0.719000  0.719000 -0.039999 -0.039999       0  \n",
       "1  0.716100  0.717066  0.717550 -0.040001 -0.040001       0  \n",
       "2  0.733490  0.728595  0.726172 -0.629999 -0.629999       0  \n",
       "3  0.741141  0.734022  0.730364 -0.480000 -0.480000       0  \n",
       "4  0.733027  0.729088  0.726846 -0.509999 -0.509999       0  "
      ]
     },
     "execution_count": 17,
     "metadata": {},
     "output_type": "execute_result"
    }
   ],
   "source": [
    "df1.head(5)"
   ]
  },
  {
   "cell_type": "code",
   "execution_count": 18,
   "metadata": {
    "colab": {
     "base_uri": "https://localhost:8080/"
    },
    "id": "OcoQSpRQrw8n",
    "outputId": "f89bc57c-821f-4c0a-ceed-c7ebb64995f0"
   },
   "outputs": [
    {
     "data": {
      "text/plain": [
       "open             0\n",
       "high             0\n",
       "low              0\n",
       "close            0\n",
       "adjclose         0\n",
       "volume           0\n",
       "feargreed        0\n",
       "emaadjclose5     0\n",
       "emaadjclose10    0\n",
       "emaadjclose15    0\n",
       "emaadjclose50    0\n",
       "atr5             0\n",
       "atr10            0\n",
       "atr15            0\n",
       "atr20            0\n",
       "velaE            0\n",
       "velaF            0\n",
       "TARGET           0\n",
       "dtype: int64"
      ]
     },
     "execution_count": 18,
     "metadata": {},
     "output_type": "execute_result"
    }
   ],
   "source": [
    "df1.isna().sum()"
   ]
  },
  {
   "cell_type": "code",
   "execution_count": 19,
   "metadata": {
    "colab": {
     "base_uri": "https://localhost:8080/"
    },
    "id": "8TZG8rg4sCFR",
    "outputId": "b05737c3-95b0-48da-c90f-945174cedfe4"
   },
   "outputs": [
    {
     "data": {
      "text/plain": [
       "False"
      ]
     },
     "execution_count": 19,
     "metadata": {},
     "output_type": "execute_result"
    }
   ],
   "source": [
    "df1.isnull().any().any()"
   ]
  },
  {
   "cell_type": "code",
   "execution_count": 20,
   "metadata": {
    "colab": {
     "base_uri": "https://localhost:8080/"
    },
    "id": "Rwuldz2Es-pF",
    "outputId": "dae14186-7b4b-4fa9-9ff3-e46326405f3c"
   },
   "outputs": [
    {
     "data": {
      "text/plain": [
       "open             False\n",
       "high             False\n",
       "low              False\n",
       "close            False\n",
       "adjclose         False\n",
       "volume           False\n",
       "feargreed        False\n",
       "emaadjclose5     False\n",
       "emaadjclose10    False\n",
       "emaadjclose15    False\n",
       "emaadjclose50    False\n",
       "atr5             False\n",
       "atr10            False\n",
       "atr15            False\n",
       "atr20            False\n",
       "velaE            False\n",
       "velaF            False\n",
       "TARGET           False\n",
       "dtype: bool"
      ]
     },
     "execution_count": 20,
     "metadata": {},
     "output_type": "execute_result"
    }
   ],
   "source": [
    "df1.isnull().any()"
   ]
  },
  {
   "cell_type": "code",
   "execution_count": 21,
   "metadata": {
    "id": "lVGHk6Bst-pW"
   },
   "outputs": [
    {
     "data": {
      "text/plain": [
       "(7781, 18)"
      ]
     },
     "execution_count": 21,
     "metadata": {},
     "output_type": "execute_result"
    }
   ],
   "source": [
    "df1.shape"
   ]
  },
  {
   "cell_type": "markdown",
   "metadata": {
    "id": "jNW-QI7nvAFW"
   },
   "source": [
    "# Split into Train and Test"
   ]
  },
  {
   "cell_type": "code",
   "execution_count": 22,
   "metadata": {
    "id": "phSFpXAh0NJZ"
   },
   "outputs": [],
   "source": [
    "X = df1.drop('TARGET', axis = 1)\n",
    "y = df['TARGET']\n"
   ]
  },
  {
   "cell_type": "code",
   "execution_count": 23,
   "metadata": {
    "id": "lBIEAqem0NMh"
   },
   "outputs": [],
   "source": [
    "# Splitting into Train and Test sets\n",
    "\n",
    "from sklearn.model_selection import train_test_split\n",
    "\n",
    "X_train, X_test, y_train, y_test = train_test_split(X, y, test_size = 0.2, random_state = 101)"
   ]
  },
  {
   "cell_type": "code",
   "execution_count": 24,
   "metadata": {
    "id": "D2dEBcisp1Eg"
   },
   "outputs": [],
   "source": [
    "# Applying Scaling on independent variables\n",
    "\n",
    "from sklearn.preprocessing import StandardScaler\n",
    "\n",
    "sc = StandardScaler()\n",
    "X_train = sc.fit_transform(X_train)\n",
    "X_test = sc.transform(X_test)"
   ]
  },
  {
   "cell_type": "code",
   "execution_count": 25,
   "metadata": {
    "colab": {
     "base_uri": "https://localhost:8080/",
     "height": 74
    },
    "id": "tq07PPd8p1HR",
    "outputId": "b4714832-91f8-4e63-8e6e-11501ada04db"
   },
   "outputs": [
    {
     "data": {
      "text/plain": [
       "LogisticRegression(random_state=0)"
      ]
     },
     "execution_count": 25,
     "metadata": {},
     "output_type": "execute_result"
    }
   ],
   "source": [
    "# Appying Logistic Regression Model onto Train set\n",
    "\n",
    "from sklearn.linear_model import LogisticRegression\n",
    "\n",
    "log_reg = LogisticRegression(random_state= 0)\n",
    "log_reg.fit(X_train, y_train)"
   ]
  },
  {
   "cell_type": "code",
   "execution_count": 26,
   "metadata": {
    "colab": {
     "base_uri": "https://localhost:8080/"
    },
    "id": "aBQVpcaCp1J2",
    "outputId": "8eca3c53-140e-4a16-94fb-a94ed7fea3a9"
   },
   "outputs": [
    {
     "data": {
      "text/plain": [
       "array([0, 0, 0, ..., 0, 0, 0])"
      ]
     },
     "execution_count": 26,
     "metadata": {},
     "output_type": "execute_result"
    }
   ],
   "source": [
    "y_pred = log_reg.predict(X_test)\n",
    "y_pred"
   ]
  },
  {
   "cell_type": "code",
   "execution_count": 27,
   "metadata": {
    "colab": {
     "base_uri": "https://localhost:8080/",
     "height": 74
    },
    "id": "a7YWhjsbp1Mu",
    "outputId": "0bfc4bba-e90d-44e6-9d61-331e5798ef76"
   },
   "outputs": [
    {
     "data": {
      "text/plain": [
       "LogisticRegression()"
      ]
     },
     "execution_count": 27,
     "metadata": {},
     "output_type": "execute_result"
    }
   ],
   "source": [
    "lm = LogisticRegression()\n",
    "lm.fit(X_train, y_train)"
   ]
  },
  {
   "cell_type": "code",
   "execution_count": 28,
   "metadata": {
    "colab": {
     "base_uri": "https://localhost:8080/"
    },
    "id": "KpFJH8R4qDeI",
    "outputId": "6b3f83da-ffe9-418d-fe86-47f6588d3f94"
   },
   "outputs": [
    {
     "data": {
      "text/plain": [
       "0.8220937700706487"
      ]
     },
     "execution_count": 28,
     "metadata": {},
     "output_type": "execute_result"
    }
   ],
   "source": [
    "lm.score(X_test, y_test)"
   ]
  }
 ],
 "metadata": {
  "colab": {
   "provenance": []
  },
  "kernelspec": {
   "display_name": "Python 3",
   "language": "python",
   "name": "python3"
  },
  "language_info": {
   "codemirror_mode": {
    "name": "ipython",
    "version": 3
   },
   "file_extension": ".py",
   "mimetype": "text/x-python",
   "name": "python",
   "nbconvert_exporter": "python",
   "pygments_lexer": "ipython3",
   "version": "3.8.8"
  }
 },
 "nbformat": 4,
 "nbformat_minor": 1
}
